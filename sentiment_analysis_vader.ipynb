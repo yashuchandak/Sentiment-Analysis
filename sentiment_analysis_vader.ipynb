{
  "nbformat": 4,
  "nbformat_minor": 0,
  "metadata": {
    "colab": {
      "provenance": []
    },
    "kernelspec": {
      "name": "python3",
      "display_name": "Python 3"
    },
    "language_info": {
      "name": "python"
    }
  },
  "cells": [
    {
      "cell_type": "code",
      "execution_count": 6,
      "metadata": {
        "colab": {
          "base_uri": "https://localhost:8080/"
        },
        "id": "CQPUCbpYlhb8",
        "outputId": "703ed607-8f46-4f72-b068-54969b97f408"
      },
      "outputs": [
        {
          "output_type": "stream",
          "name": "stdout",
          "text": [
            "Looking in indexes: https://pypi.org/simple, https://us-python.pkg.dev/colab-wheels/public/simple/\n",
            "Collecting snscrape\n",
            "  Downloading snscrape-0.6.2.20230320-py3-none-any.whl (71 kB)\n",
            "\u001b[?25l     \u001b[90m━━━━━━━━━━━━━━━━━━━━━━━━━━━━━━━━━━━━━━━━\u001b[0m \u001b[32m0.0/71.8 KB\u001b[0m \u001b[31m?\u001b[0m eta \u001b[36m-:--:--\u001b[0m\r\u001b[2K     \u001b[90m━━━━━━━━━━━━━━━━━━━━━━━━━━━━━━━━━━━━━━━━\u001b[0m \u001b[32m71.8/71.8 KB\u001b[0m \u001b[31m7.3 MB/s\u001b[0m eta \u001b[36m0:00:00\u001b[0m\n",
            "\u001b[?25hRequirement already satisfied: beautifulsoup4 in /usr/local/lib/python3.9/dist-packages (from snscrape) (4.11.2)\n",
            "Requirement already satisfied: lxml in /usr/local/lib/python3.9/dist-packages (from snscrape) (4.9.2)\n",
            "Requirement already satisfied: filelock in /usr/local/lib/python3.9/dist-packages (from snscrape) (3.10.1)\n",
            "Requirement already satisfied: requests[socks] in /usr/local/lib/python3.9/dist-packages (from snscrape) (2.27.1)\n",
            "Requirement already satisfied: soupsieve>1.2 in /usr/local/lib/python3.9/dist-packages (from beautifulsoup4->snscrape) (2.4)\n",
            "Requirement already satisfied: idna<4,>=2.5 in /usr/local/lib/python3.9/dist-packages (from requests[socks]->snscrape) (3.4)\n",
            "Requirement already satisfied: certifi>=2017.4.17 in /usr/local/lib/python3.9/dist-packages (from requests[socks]->snscrape) (2022.12.7)\n",
            "Requirement already satisfied: urllib3<1.27,>=1.21.1 in /usr/local/lib/python3.9/dist-packages (from requests[socks]->snscrape) (1.26.15)\n",
            "Requirement already satisfied: charset-normalizer~=2.0.0 in /usr/local/lib/python3.9/dist-packages (from requests[socks]->snscrape) (2.0.12)\n",
            "Requirement already satisfied: PySocks!=1.5.7,>=1.5.6 in /usr/local/lib/python3.9/dist-packages (from requests[socks]->snscrape) (1.7.1)\n",
            "Installing collected packages: snscrape\n",
            "Successfully installed snscrape-0.6.2.20230320\n",
            "Looking in indexes: https://pypi.org/simple, https://us-python.pkg.dev/colab-wheels/public/simple/\n",
            "Requirement already satisfied: nltk in /usr/local/lib/python3.9/dist-packages (3.8.1)\n",
            "Requirement already satisfied: click in /usr/local/lib/python3.9/dist-packages (from nltk) (8.1.3)\n",
            "Requirement already satisfied: regex>=2021.8.3 in /usr/local/lib/python3.9/dist-packages (from nltk) (2022.10.31)\n",
            "Requirement already satisfied: tqdm in /usr/local/lib/python3.9/dist-packages (from nltk) (4.65.0)\n",
            "Requirement already satisfied: joblib in /usr/local/lib/python3.9/dist-packages (from nltk) (1.1.1)\n",
            "Looking in indexes: https://pypi.org/simple, https://us-python.pkg.dev/colab-wheels/public/simple/\n",
            "Requirement already satisfied: matplotlib in /usr/local/lib/python3.9/dist-packages (3.7.1)\n",
            "Requirement already satisfied: fonttools>=4.22.0 in /usr/local/lib/python3.9/dist-packages (from matplotlib) (4.39.2)\n",
            "Requirement already satisfied: packaging>=20.0 in /usr/local/lib/python3.9/dist-packages (from matplotlib) (23.0)\n",
            "Requirement already satisfied: pyparsing>=2.3.1 in /usr/local/lib/python3.9/dist-packages (from matplotlib) (3.0.9)\n",
            "Requirement already satisfied: cycler>=0.10 in /usr/local/lib/python3.9/dist-packages (from matplotlib) (0.11.0)\n",
            "Requirement already satisfied: pillow>=6.2.0 in /usr/local/lib/python3.9/dist-packages (from matplotlib) (8.4.0)\n",
            "Requirement already satisfied: python-dateutil>=2.7 in /usr/local/lib/python3.9/dist-packages (from matplotlib) (2.8.2)\n",
            "Requirement already satisfied: kiwisolver>=1.0.1 in /usr/local/lib/python3.9/dist-packages (from matplotlib) (1.4.4)\n",
            "Requirement already satisfied: importlib-resources>=3.2.0 in /usr/local/lib/python3.9/dist-packages (from matplotlib) (5.12.0)\n",
            "Requirement already satisfied: contourpy>=1.0.1 in /usr/local/lib/python3.9/dist-packages (from matplotlib) (1.0.7)\n",
            "Requirement already satisfied: numpy>=1.20 in /usr/local/lib/python3.9/dist-packages (from matplotlib) (1.22.4)\n",
            "Requirement already satisfied: zipp>=3.1.0 in /usr/local/lib/python3.9/dist-packages (from importlib-resources>=3.2.0->matplotlib) (3.15.0)\n",
            "Requirement already satisfied: six>=1.5 in /usr/local/lib/python3.9/dist-packages (from python-dateutil>=2.7->matplotlib) (1.16.0)\n",
            "Looking in indexes: https://pypi.org/simple, https://us-python.pkg.dev/colab-wheels/public/simple/\n",
            "Requirement already satisfied: wordcloud in /usr/local/lib/python3.9/dist-packages (1.8.2.2)\n",
            "Requirement already satisfied: numpy>=1.6.1 in /usr/local/lib/python3.9/dist-packages (from wordcloud) (1.22.4)\n",
            "Requirement already satisfied: pillow in /usr/local/lib/python3.9/dist-packages (from wordcloud) (8.4.0)\n",
            "Requirement already satisfied: matplotlib in /usr/local/lib/python3.9/dist-packages (from wordcloud) (3.7.1)\n",
            "Requirement already satisfied: kiwisolver>=1.0.1 in /usr/local/lib/python3.9/dist-packages (from matplotlib->wordcloud) (1.4.4)\n",
            "Requirement already satisfied: pyparsing>=2.3.1 in /usr/local/lib/python3.9/dist-packages (from matplotlib->wordcloud) (3.0.9)\n",
            "Requirement already satisfied: python-dateutil>=2.7 in /usr/local/lib/python3.9/dist-packages (from matplotlib->wordcloud) (2.8.2)\n",
            "Requirement already satisfied: contourpy>=1.0.1 in /usr/local/lib/python3.9/dist-packages (from matplotlib->wordcloud) (1.0.7)\n",
            "Requirement already satisfied: importlib-resources>=3.2.0 in /usr/local/lib/python3.9/dist-packages (from matplotlib->wordcloud) (5.12.0)\n",
            "Requirement already satisfied: packaging>=20.0 in /usr/local/lib/python3.9/dist-packages (from matplotlib->wordcloud) (23.0)\n",
            "Requirement already satisfied: cycler>=0.10 in /usr/local/lib/python3.9/dist-packages (from matplotlib->wordcloud) (0.11.0)\n",
            "Requirement already satisfied: fonttools>=4.22.0 in /usr/local/lib/python3.9/dist-packages (from matplotlib->wordcloud) (4.39.2)\n",
            "Requirement already satisfied: zipp>=3.1.0 in /usr/local/lib/python3.9/dist-packages (from importlib-resources>=3.2.0->matplotlib->wordcloud) (3.15.0)\n",
            "Requirement already satisfied: six>=1.5 in /usr/local/lib/python3.9/dist-packages (from python-dateutil>=2.7->matplotlib->wordcloud) (1.16.0)\n",
            "Looking in indexes: https://pypi.org/simple, https://us-python.pkg.dev/colab-wheels/public/simple/\n",
            "Requirement already satisfied: textblob in /usr/local/lib/python3.9/dist-packages (0.17.1)\n",
            "Requirement already satisfied: nltk>=3.1 in /usr/local/lib/python3.9/dist-packages (from textblob) (3.8.1)\n",
            "Requirement already satisfied: tqdm in /usr/local/lib/python3.9/dist-packages (from nltk>=3.1->textblob) (4.65.0)\n",
            "Requirement already satisfied: click in /usr/local/lib/python3.9/dist-packages (from nltk>=3.1->textblob) (8.1.3)\n",
            "Requirement already satisfied: regex>=2021.8.3 in /usr/local/lib/python3.9/dist-packages (from nltk>=3.1->textblob) (2022.10.31)\n",
            "Requirement already satisfied: joblib in /usr/local/lib/python3.9/dist-packages (from nltk>=3.1->textblob) (1.1.1)\n",
            "ERROR: unknown command \"insatall\" - maybe you meant \"install\"\n",
            "Looking in indexes: https://pypi.org/simple, https://us-python.pkg.dev/colab-wheels/public/simple/\n",
            "Requirement already satisfied: pandas in /usr/local/lib/python3.9/dist-packages (1.4.4)\n",
            "Requirement already satisfied: pytz>=2020.1 in /usr/local/lib/python3.9/dist-packages (from pandas) (2022.7.1)\n",
            "Requirement already satisfied: numpy>=1.18.5 in /usr/local/lib/python3.9/dist-packages (from pandas) (1.22.4)\n",
            "Requirement already satisfied: python-dateutil>=2.8.1 in /usr/local/lib/python3.9/dist-packages (from pandas) (2.8.2)\n",
            "Requirement already satisfied: six>=1.5 in /usr/local/lib/python3.9/dist-packages (from python-dateutil>=2.8.1->pandas) (1.16.0)\n",
            "Looking in indexes: https://pypi.org/simple, https://us-python.pkg.dev/colab-wheels/public/simple/\n",
            "Collecting emot\n",
            "  Downloading emot-3.1-py3-none-any.whl (61 kB)\n",
            "\u001b[2K     \u001b[90m━━━━━━━━━━━━━━━━━━━━━━━━━━━━━━━━━━━━━━━━\u001b[0m \u001b[32m61.5/61.5 KB\u001b[0m \u001b[31m7.3 MB/s\u001b[0m eta \u001b[36m0:00:00\u001b[0m\n",
            "\u001b[?25hInstalling collected packages: emot\n",
            "Successfully installed emot-3.1\n",
            "Looking in indexes: https://pypi.org/simple, https://us-python.pkg.dev/colab-wheels/public/simple/\n",
            "Collecting vaderSentiment\n",
            "  Downloading vaderSentiment-3.3.2-py2.py3-none-any.whl (125 kB)\n",
            "\u001b[2K     \u001b[90m━━━━━━━━━━━━━━━━━━━━━━━━━━━━━━━━━━━━━━\u001b[0m \u001b[32m126.0/126.0 KB\u001b[0m \u001b[31m11.3 MB/s\u001b[0m eta \u001b[36m0:00:00\u001b[0m\n",
            "\u001b[?25hRequirement already satisfied: requests in /usr/local/lib/python3.9/dist-packages (from vaderSentiment) (2.27.1)\n",
            "Requirement already satisfied: urllib3<1.27,>=1.21.1 in /usr/local/lib/python3.9/dist-packages (from requests->vaderSentiment) (1.26.15)\n",
            "Requirement already satisfied: idna<4,>=2.5 in /usr/local/lib/python3.9/dist-packages (from requests->vaderSentiment) (3.4)\n",
            "Requirement already satisfied: charset-normalizer~=2.0.0 in /usr/local/lib/python3.9/dist-packages (from requests->vaderSentiment) (2.0.12)\n",
            "Requirement already satisfied: certifi>=2017.4.17 in /usr/local/lib/python3.9/dist-packages (from requests->vaderSentiment) (2022.12.7)\n",
            "Installing collected packages: vaderSentiment\n",
            "Successfully installed vaderSentiment-3.3.2\n"
          ]
        }
      ],
      "source": [
        "!pip install snscrape\n",
        "!pip install nltk\n",
        "!pip install matplotlib\n",
        "!pip install wordcloud\n",
        "!pip install textblob\n",
        "!pip insatall re\n",
        "!pip install pandas\n",
        "!pip install emot\n",
        "!pip install vaderSentiment"
      ]
    },
    {
      "cell_type": "code",
      "source": [
        "import pandas as pd\n",
        "import snscrape.modules.twitter as sntwitter\n",
        "import matplotlib.pyplot as plt\n",
        "from wordcloud import WordCloud\n",
        "from vaderSentiment.vaderSentiment import SentimentIntensityAnalyzer as sia\n",
        "from textblob import TextBlob\n",
        "import re"
      ],
      "metadata": {
        "id": "-KXTrX-Tlq8-"
      },
      "execution_count": 1,
      "outputs": []
    },
    {
      "cell_type": "code",
      "source": [
        "import nltk\n",
        "nltk.download('stopwords') #run once \n",
        "nltk.download('punkt')\n",
        "nltk.download('wordnet')\n",
        "from nltk.tokenize import word_tokenize\n",
        "from nltk.corpus import stopwords\n",
        "from nltk.stem import WordNetLemmatizer \n",
        "\n",
        "from emot.emo_unicode import UNICODE_EMOJI"
      ],
      "metadata": {
        "colab": {
          "base_uri": "https://localhost:8080/"
        },
        "id": "gn5pdbFrrQP5",
        "outputId": "f47eda0c-a2c1-4089-c111-7770a8ccfd28"
      },
      "execution_count": 2,
      "outputs": [
        {
          "output_type": "stream",
          "name": "stderr",
          "text": [
            "[nltk_data] Downloading package stopwords to /root/nltk_data...\n",
            "[nltk_data]   Package stopwords is already up-to-date!\n",
            "[nltk_data] Downloading package punkt to /root/nltk_data...\n",
            "[nltk_data]   Package punkt is already up-to-date!\n",
            "[nltk_data] Downloading package wordnet to /root/nltk_data...\n",
            "[nltk_data]   Package wordnet is already up-to-date!\n"
          ]
        }
      ]
    },
    {
      "cell_type": "code",
      "source": [
        "# not quite useful atleast in election oriented\n",
        "\n",
        "# count_hash = {}\n",
        "# count_at = {}\n",
        "\n",
        "# def count_tags(tweet_text):\n",
        "#     hash_tag = re.findall(r\"#(\\w+)\", tweet_text)\n",
        "#     at_tag = re.findall(r\"@(\\w+)\", tweet_text)\n",
        "    \n",
        "#     if(len(hash_tag)!=0):\n",
        "#         for i in hash_tag: \n",
        "#             if i not in count_hash.keys():\n",
        "#                 count_hash[i] = 1\n",
        "#             else:\n",
        "#                 count_hash[i] += 1    \n",
        "        \n",
        "#         for i in at_tag: \n",
        "#             if i not in count_at.keys():\n",
        "#                 count_at[i] = 1\n",
        "#             else:\n",
        "#                 count_at[i] += 1   "
      ],
      "metadata": {
        "id": "Fq8PEIn3p2Ke"
      },
      "execution_count": null,
      "outputs": []
    },
    {
      "cell_type": "code",
      "source": [
        "#change\n",
        "query = \"Joe Biden lang:en\"\n",
        "\n",
        "tweets_with_loc = []\n",
        "\n",
        "tweets = []\n",
        "\n",
        "fr = open(\"rejected_tweets_analysis.txt\", \"a\")\n",
        "\n",
        "for i, tweet in enumerate(sntwitter.TwitterSearchScraper(query).get_items()):   \n",
        "    if i>20000:\n",
        "        break\n",
        "\n",
        "    else:\n",
        "        if(len(tweet.content.split()) >= 10): #why 10\n",
        "            if str(tweet.user.location) != \"\" :\n",
        "                tweets_with_loc.append(str(tweet.user.location))\n",
        "            tweets.append([tweet.date, tweet.user.username, tweet.sourceLabel, tweet.user.location, tweet.content, tweet.likeCount, tweet.retweetCount])\n",
        "            # count_tags(tweet.content)\n",
        "        else:\n",
        "            # pass\n",
        "            fr.write(tweet.content + \" \" + str(len(tweet.content.split())) + \"\\n\")\n",
        "            # print(tweet.content, len(tweet.content.split()))\n",
        "\n",
        "# print(tweets_with_loc) # 500 me se 284; with correct locations\n"
      ],
      "metadata": {
        "id": "qzVAOu7jlrck"
      },
      "execution_count": null,
      "outputs": []
    },
    {
      "cell_type": "code",
      "source": [
        "# number_of_tweets = len(tweets)\n",
        "# df = pd.DataFrame(tweets, columns = ['date', 'username', 'source', 'location', 'tweet', 'num_of_likes', 'num_of_retweet'])\n",
        "# df.to_csv('sentiment.csv')\n",
        "\n",
        "\n",
        "df = pd.read_csv('/content/drive/MyDrive/dsci_project/tweets_donald_trump.csv')\n",
        "number_of_tweets = len(df) + 1"
      ],
      "metadata": {
        "id": "XMGB9TLbltfC"
      },
      "execution_count": 25,
      "outputs": []
    },
    {
      "cell_type": "code",
      "source": [
        "hashtags = {}\n",
        "# mentions = {}\n",
        "\n",
        "def count_tags(tweet_text):\n",
        "    hashtag = re.findall(r\"#(\\w+)\", tweet_text)\n",
        "    # mentions = re.findall(r\"@(\\w+)\", tweet_text)\n",
        "    \n",
        "    if(len(hashtag)!=0):\n",
        "        for i in hashtag: \n",
        "            if i not in hashtags.keys():\n",
        "                hashtags[i] = 1\n",
        "            else:\n",
        "                hashtags[i] += 1    \n",
        "        \n",
        "        # for i in mention: \n",
        "        #     if i not in mentions.keys():\n",
        "        #         mentions[i] = 1\n",
        "        #     else:\n",
        "        #         mentions[i] += 1   \n",
        "\n",
        "df['tweet'].apply(count_tags)\n",
        "# print(count_mentions)\n",
        "# print()\n",
        "# print(hashtags)\n",
        "\n",
        "hashtagslist = list(hashtags.keys())\n",
        "\n",
        "for key in hashtagslist:\n",
        "    if (hashtags[key] < 0.001 * number_of_tweets) or (hashtags[key] > 0.01 * number_of_tweets):\n",
        "        del hashtags[key]\n",
        "\n",
        "hashtagslist = list(hashtags.keys())\n",
        "frequencies = list(hashtags.values())\n",
        "\n",
        "plt.bar(range(len(hashtagslist)), frequencies, tick_label=hashtagslist)\n",
        "plt.rcParams['figure.figsize'] = [40, 5]\n",
        "plt.show()"
      ],
      "metadata": {
        "colab": {
          "base_uri": "https://localhost:8080/",
          "height": 204
        },
        "id": "a4xJxlkglv_h",
        "outputId": "d3886017-13e3-4b3a-e9ba-c2676ed240d2"
      },
      "execution_count": 16,
      "outputs": [
        {
          "output_type": "display_data",
          "data": {
            "text/plain": [
              "<Figure size 2880x360 with 1 Axes>"
            ],
            "image/png": "[encoded data removed]"
          },
          "metadata": {
            "needs_background": "light"
          }
        }
      ]
    },
    {
      "cell_type": "code",
      "source": [
        "eng_stop_words = list(stopwords.words('english'))\n",
        "# emoji = list(UNICODE_EMOJI.keys())"
      ],
      "metadata": {
        "id": "hTGgkl6flyBF"
      },
      "execution_count": 18,
      "outputs": []
    },
    {
      "cell_type": "code",
      "source": [
        "def filtering(text):\n",
        "    text = text.lower()\n",
        "\n",
        "    #mentions, hashtags, any character except, urls?\n",
        "    # text = ' '.join(re.sub(\"(@[A-Za-z0-9]+)|(#[A-Za-z0-9]+)|([^0-9A-Za-z \\t])|(\\w+:\\/\\/\\S+)\", \" \", text).split())\n",
        "    \n",
        "    # hahtags remove?\n",
        "    text = ' '.join(re.sub(\"(@[A-Za-z0-9]+)|(#[A-Za-z0-9]+)|(\\w+:\\/\\/\\S+)\", \" \", text).split())\n",
        "\n",
        "    tokens = word_tokenize(text)  \n",
        "    filtered_words = [w for w in tokens if w not in eng_stop_words]\n",
        "    # filtered_words = [w for w in filtered_words if w not in emoji]\n",
        "\n",
        "    lemmatizer = WordNetLemmatizer() \n",
        "    lemma_words = [lemmatizer.lemmatize(w) for w in filtered_words]\n",
        "    text = \" \".join(lemma_words)\n",
        "\n",
        "    return text\n",
        "\n",
        "#test\n",
        "# filtering(\"@kvenkat1680 @SecularFringe @GemsOfBollywood Those will loss Who were faking despite of political alignments. As per Hindenberg, Adani manipulated &; used a fake assets scene and https://www.sdhvb.com he is getting rewards for his deeds, no surprise. As per your views the super hit movies are unable to stay on screen for more than two weeks. #Truth\")\n",
        "\n",
        "\n",
        "df['filtered_tweets'] = df['tweet'].apply(filtering)"
      ],
      "metadata": {
        "id": "1Qeo40Y_lz5t"
      },
      "execution_count": 34,
      "outputs": []
    },
    {
      "cell_type": "code",
      "source": [
        "polar = 0\n",
        "pnn = [0, 0, 0]\n",
        "\n",
        "# def polarity(tweet):\n",
        "#     global polar, pos, neu, neg\n",
        "#     curr_pol = TextBlob(tweet).sentiment.polarity\n",
        "    \n",
        "#     if curr_pol > 0 : pnn[0] += 1\n",
        "#     elif curr_pol == 0 : pnn[1] += 1\n",
        "#     else : pnn[2] += 1\n",
        "\n",
        "#     polar += curr_pol\n",
        "#     return curr_pol\n",
        "\n",
        "# df['polarity'] = df['filtered_tweets'].apply(polarity)\n",
        "# df.head(20)\n",
        "\n",
        "def vader_polarity(text):\n",
        "    score = sia().polarity_scores(text)\n",
        "    compound_score = score['compound']\n",
        "\n",
        "    global polar, pos, neu, neg\n",
        "    # curr_pol = TextBlob(tweet).sentiment.polarity\n",
        "    \n",
        "    if compound_score > 0 : pnn[0] += 1\n",
        "    elif compound_score == 0 : pnn[1] += 1\n",
        "    else : pnn[2] += 1\n",
        "\n",
        "    polar += compound_score\n",
        "    return compound_score\n",
        "\n",
        "df['polarity'] = df['filtered_tweets'].apply(vader_polarity)"
      ],
      "metadata": {
        "id": "JE7B0Eenl1q4"
      },
      "execution_count": 20,
      "outputs": []
    },
    {
      "cell_type": "code",
      "source": [
        "df.to_csv('sentiment.csv', mode = 'w')\n",
        "\n",
        "# df = pd.read_csv('sentiment.csv')"
      ],
      "metadata": {
        "id": "WbHluJ1pl32q"
      },
      "execution_count": 32,
      "outputs": []
    },
    {
      "cell_type": "code",
      "source": [
        "# print(\"sentiment polarity : \", polar*100 / len(tweets))\n",
        "print(\"positive tweets :\", pnn[0]*100 / number_of_tweets, \"%\")\n",
        "print(\"neutral tweets :\", pnn[1]*100 / number_of_tweets, \"%\")\n",
        "print(\"negative tweets :\", pnn[2]*100 / number_of_tweets, \"%\")"
      ],
      "metadata": {
        "id": "odP7WJV6l5eD"
      },
      "execution_count": null,
      "outputs": []
    },
    {
      "cell_type": "code",
      "source": [
        "# graphs \n",
        "# positive neutral and negative tweets for trump vs biden\n",
        "# location\n",
        "# common words\n",
        "# no. of positive and negative tweets over a period\n",
        "\n",
        "x_axis = [\"positive\", \"neutral\", \"negative\"]\n",
        "\n",
        "plt.rcParams['figure.figsize'] = [10, 5]\n",
        "plt.bar(x_axis, pnn)\n"
      ],
      "metadata": {
        "colab": {
          "base_uri": "https://localhost:8080/",
          "height": 337
        },
        "id": "auf3yD4yl9Re",
        "outputId": "bed1712d-d116-4e43-98f3-451a86848509"
      },
      "execution_count": 29,
      "outputs": [
        {
          "output_type": "execute_result",
          "data": {
            "text/plain": [
              "<BarContainer object of 3 artists>"
            ]
          },
          "metadata": {},
          "execution_count": 29
        },
        {
          "output_type": "display_data",
          "data": {
            "text/plain": [
              "<Figure size 720x360 with 1 Axes>"
            ],
            "image/png": "[encoded data removed]"
          },
          "metadata": {
            "needs_background": "light"
          }
        }
      ]
    },
    {
      "cell_type": "code",
      "source": [
        "#problem\n",
        "\n",
        "tweets_string = df['filtered_tweets'].tolist()\n",
        "tweets_string = \" \".join(tweets_string)\n",
        "\n",
        "tweets_string = ' '.join(re.sub(\"([^0-9A-Za-z \\t])\", \" \", tweets_string).split())\n",
        "\n",
        "tweets_list = tweets_string.split()\n",
        "\n",
        "#change\n",
        "words_not_to_include = [\"donald\", \"trump\"]\n",
        "\n",
        "tweets_list = [i for i in tweets_list if (i not in words_not_to_include and len(i)>2)]\n",
        "\n",
        "tweets_string = \" \".join(tweets_list)\n",
        "\n",
        "# print+(tweets_string)\n",
        "\n",
        "w_cloud = WordCloud(collocations = False, max_words=200, background_color = 'white', width = 14000, height = 10000).generate(tweets_string)\n",
        "plt.imshow(w_cloud, interpolation='bilinear')\n",
        "plt.axis(\"off\")\n",
        "plt.show()"
      ],
      "metadata": {
        "id": "iU5KnEU-mAr1"
      },
      "execution_count": null,
      "outputs": []
    }
  ]
}