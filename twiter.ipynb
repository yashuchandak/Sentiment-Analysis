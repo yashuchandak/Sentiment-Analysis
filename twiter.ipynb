{
 "cells": [
  {
   "cell_type": "code",
   "execution_count": 24,
   "metadata": {},
   "outputs": [],
   "source": [
    "from selenium.webdriver import Chrome\n",
    "from selenium.webdriver.common.by import By\n",
    "from selenium.webdriver.common.keys import Keys\n",
    "import time\n",
    "import getpass\n",
    "\n",
    "# from selenium.webdriver import ActionChains"
   ]
  },
  {
   "cell_type": "code",
   "execution_count": 25,
   "metadata": {},
   "outputs": [],
   "source": [
    "from selenium.webdriver.chrome.options import Options\n",
    "chromeOptions = Options()\n",
    "# chromeOptions.headless = True\n",
    "\n",
    "chrome=Chrome(options=chromeOptions)\n",
    "# url=\"https://twitter.com/login/check?lang=en\"\n",
    "url=\"https://twitter.com/\"\n",
    "chrome.get(url)\n",
    "time.sleep(5)"
   ]
  },
  {
   "cell_type": "code",
   "execution_count": 26,
   "metadata": {},
   "outputs": [],
   "source": [
    "# emailXPath=\"/html/body/div/div/div/div[1]/div/div/div/div/div/div/div[2]/div[2]/div/div/div[2]/div[2]/div/div/div/div[5]/label/div/div[2]/div/input\"\n",
    "# emailElement=chrome.find_element(By.XPATH,emailXPath)\n",
    "# emailElement.send_keys(\"chandakyash41@gmail.com\")\n",
    "# emailElement.send_keys(Keys.ENTER)"
   ]
  },
  {
   "cell_type": "code",
   "execution_count": 27,
   "metadata": {},
   "outputs": [],
   "source": [
    "# nextButtonXPath=\"/html/body/div/div/div/div[1]/div/div/div/div/div/div/div[2]/div[2]/div/div/div[2]/div[2]/div/div/div/div[6]/div\"\n",
    "# nextButtonElement=chrome.find_element(By.XPATH,nextButtonXPath)\n",
    "# # actionChain=ActionChains(chrome)\n",
    "# # actionChain.move_to_element(nextButtonElement).click().perform()\n",
    "# nextButtonElement.click()"
   ]
  },
  {
   "cell_type": "code",
   "execution_count": 28,
   "metadata": {},
   "outputs": [],
   "source": [
    "# passwordXPath=\"/html/body/div/div/div/div[1]/div/div/div/div/div/div/div[2]/div[2]/div/div/div[2]/div[2]/div[1]/div/div/div[3]/div/label/div/div[2]/div[1]/input\"\n",
    "# passwordElement=chrome.find_element(By.XPATH,passwordXPath)\n",
    "# password=getpass.getpass()\n",
    "# passwordElement.send_keys(password)"
   ]
  },
  {
   "cell_type": "code",
   "execution_count": 29,
   "metadata": {},
   "outputs": [],
   "source": [
    "# LoginXPath=\"/html/body/div/div/div/div[1]/div/div/div/div/div/div/div[2]/div[2]/div/div/div[2]/div[2]/div[2]/div/div[1]/div/div/div/div\"\n",
    "# LoginXPath=chrome.find_element(By.XPATH,LoginXPath)\n",
    "# # actionChain.move_to_element(LoginXPath).click().perform()\n",
    "# LoginXPath.click()\n",
    "# time.sleep(2)"
   ]
  },
  {
   "cell_type": "code",
   "execution_count": null,
   "metadata": {},
   "outputs": [],
   "source": []
  },
  {
   "cell_type": "code",
   "execution_count": 30,
   "metadata": {},
   "outputs": [],
   "source": [
    "# # chrome.maximize_window()\n",
    "# inputXPath=\"/html/body/div[1]/div/div/div[2]/main/div/div/div/div[2]/div/div[2]/div/div/div/div[1]/div/div/div/form/div[1]/div/div/div/label/div[2]/div/input\"\n",
    "# inputElement=chrome.find_element(By.XPATH,inputXPath)\n",
    "# inputElement.send_keys(\"pathaan\")\n",
    "# inputElement.send_keys(Keys.ENTER)"
   ]
  },
  {
   "cell_type": "code",
   "execution_count": 31,
   "metadata": {},
   "outputs": [],
   "source": [
    "inputXPath=\"/html/body/div[1]/div/div/div[2]/main/div/div/div/div/div/div[1]/div[1]/div[1]/div/div/div/div/div[1]/div[2]/div/div/div/form/div[1]/div/div/div/label/div[2]/div/input\"\n",
    "inputElement=chrome.find_element(By.XPATH,inputXPath)\n",
    "inputElement.send_keys(\"BBC documentry\")\n",
    "\n",
    "inputElement.send_keys(Keys.ENTER)\n",
    "time.sleep(5)\n",
    "# action=ActionChains(chrome)\n",
    "# action.send_keys(Keys.ESCAPE)"
   ]
  },
  {
   "cell_type": "code",
   "execution_count": 32,
   "metadata": {},
   "outputs": [],
   "source": [
    "# action=ActionChains(chrome)\n",
    "# action.send_keys(Keys.ESCAPE).perform()"
   ]
  },
  {
   "cell_type": "code",
   "execution_count": 33,
   "metadata": {},
   "outputs": [],
   "source": [
    "tweetsXPath='//div[@class=\"css-901oao r-18jsvk2 r-37j5jr r-a023e6 r-16dba41 r-rjixqe r-bcqeeo r-bnwqim r-qvutc0\"]'\n",
    "allTweets=[]"
   ]
  },
  {
   "cell_type": "code",
   "execution_count": 34,
   "metadata": {},
   "outputs": [],
   "source": [
    "last_height = 0\n",
    "while(1):\n",
    "    tweets=chrome.find_elements(By.XPATH,tweetsXPath)\n",
    "    for tweet in tweets:\n",
    "        allTweets.append(tweet.text)\n",
    "    chrome.execute_script('window.scrollTo(0,document.body.scrollHeight)')\n",
    "    new_height = chrome.execute_script(\"return document.body.scrollHeight\")\n",
    "    if new_height == last_height:\n",
    "        break\n",
    "    last_height = new_height\n",
    "    time.sleep(2)\n",
    "    # print(len(allTweets))"
   ]
  },
  {
   "cell_type": "code",
   "execution_count": 35,
   "metadata": {},
   "outputs": [
    {
     "name": "stdout",
     "output_type": "stream",
     "text": [
      "231\n"
     ]
    }
   ],
   "source": [
    "print(len(allTweets))"
   ]
  },
  {
   "cell_type": "code",
   "execution_count": 36,
   "metadata": {},
   "outputs": [],
   "source": [
    "import json\n",
    "with open('mydata.json', 'w') as f:\n",
    "    json.dump(allTweets, f)\n"
   ]
  }
 ],
 "metadata": {
  "kernelspec": {
   "display_name": "Python 3",
   "language": "python",
   "name": "python3"
  },
  "language_info": {
   "codemirror_mode": {
    "name": "ipython",
    "version": 3
   },
   "file_extension": ".py",
   "mimetype": "text/x-python",
   "name": "python",
   "nbconvert_exporter": "python",
   "pygments_lexer": "ipython3",
   "version": "3.10.6"
  },
  "orig_nbformat": 4,
  "vscode": {
   "interpreter": {
    "hash": "916dbcbb3f70747c44a77c7bcd40155683ae19c65e1c03b4aa3499c5328201f1"
   }
  }
 },
 "nbformat": 4,
 "nbformat_minor": 2
}
